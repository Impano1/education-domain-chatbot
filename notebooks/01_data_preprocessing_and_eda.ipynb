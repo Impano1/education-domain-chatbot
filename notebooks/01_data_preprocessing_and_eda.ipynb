{
 "cells": [
  {
   "cell_type": "markdown",
   "metadata": {},
   "source": [
    "# Data Exploration & Preprocessing\n",
    "\n",
    "This notebook covers data loading, exploration, cleaning, normalization, and tokenization for the GSM8K grade school math Q&A dataset. All steps are documented for rubric alignment."
   ]
  },
  {
   "cell_type": "code",
   "execution_count": 10,
   "metadata": {},
   "outputs": [
    {
     "name": "stdout",
     "output_type": "stream",
     "text": [
      "Train shape: (7473, 2)\n",
      "Test shape: (1319, 2)\n"
     ]
    },
    {
     "data": {
      "text/html": [
       "<div>\n",
       "<style scoped>\n",
       "    .dataframe tbody tr th:only-of-type {\n",
       "        vertical-align: middle;\n",
       "    }\n",
       "\n",
       "    .dataframe tbody tr th {\n",
       "        vertical-align: top;\n",
       "    }\n",
       "\n",
       "    .dataframe thead th {\n",
       "        text-align: right;\n",
       "    }\n",
       "</style>\n",
       "<table border=\"1\" class=\"dataframe\">\n",
       "  <thead>\n",
       "    <tr style=\"text-align: right;\">\n",
       "      <th></th>\n",
       "      <th>question</th>\n",
       "      <th>answer</th>\n",
       "    </tr>\n",
       "  </thead>\n",
       "  <tbody>\n",
       "    <tr>\n",
       "      <th>0</th>\n",
       "      <td>Natalia sold clips to 48 of her friends in Apr...</td>\n",
       "      <td>Natalia sold 48/2 = &lt;&lt;48/2=24&gt;&gt;24 clips in May...</td>\n",
       "    </tr>\n",
       "    <tr>\n",
       "      <th>1</th>\n",
       "      <td>Weng earns $12 an hour for babysitting. Yester...</td>\n",
       "      <td>Weng earns 12/60 = $&lt;&lt;12/60=0.2&gt;&gt;0.2 per minut...</td>\n",
       "    </tr>\n",
       "    <tr>\n",
       "      <th>2</th>\n",
       "      <td>Betty is saving money for a new wallet which c...</td>\n",
       "      <td>In the beginning, Betty has only 100 / 2 = $&lt;&lt;...</td>\n",
       "    </tr>\n",
       "    <tr>\n",
       "      <th>3</th>\n",
       "      <td>Julie is reading a 120-page book. Yesterday, s...</td>\n",
       "      <td>Maila read 12 x 2 = &lt;&lt;12*2=24&gt;&gt;24 pages today....</td>\n",
       "    </tr>\n",
       "    <tr>\n",
       "      <th>4</th>\n",
       "      <td>James writes a 3-page letter to 2 different fr...</td>\n",
       "      <td>He writes each friend 3*2=&lt;&lt;3*2=6&gt;&gt;6 pages a w...</td>\n",
       "    </tr>\n",
       "  </tbody>\n",
       "</table>\n",
       "</div>"
      ],
      "text/plain": [
       "                                            question  \\\n",
       "0  Natalia sold clips to 48 of her friends in Apr...   \n",
       "1  Weng earns $12 an hour for babysitting. Yester...   \n",
       "2  Betty is saving money for a new wallet which c...   \n",
       "3  Julie is reading a 120-page book. Yesterday, s...   \n",
       "4  James writes a 3-page letter to 2 different fr...   \n",
       "\n",
       "                                              answer  \n",
       "0  Natalia sold 48/2 = <<48/2=24>>24 clips in May...  \n",
       "1  Weng earns 12/60 = $<<12/60=0.2>>0.2 per minut...  \n",
       "2  In the beginning, Betty has only 100 / 2 = $<<...  \n",
       "3  Maila read 12 x 2 = <<12*2=24>>24 pages today....  \n",
       "4  He writes each friend 3*2=<<3*2=6>>6 pages a w...  "
      ]
     },
     "execution_count": 10,
     "metadata": {},
     "output_type": "execute_result"
    }
   ],
   "source": [
    "import pandas as pd\n",
    "import numpy as np\n",
    "import matplotlib.pyplot as plt\n",
    "import seaborn as sns\n",
    "from transformers import AutoTokenizer\n",
    "\n",
    "# Load the training and test data\n",
    "train_df = pd.read_csv('../data/main_train.csv')\n",
    "test_df = pd.read_csv('../data/main_test.csv')\n",
    "\n",
    "print('Train shape:', train_df.shape)\n",
    "print('Test shape:', test_df.shape)\n",
    "train_df.head()"
   ]
  },
  {
   "cell_type": "code",
   "execution_count": 11,
   "metadata": {},
   "outputs": [
    {
     "name": "stdout",
     "output_type": "stream",
     "text": [
      "Missing values in train:\n",
      "question    0\n",
      "answer      0\n",
      "dtype: int64\n",
      "Missing values in test:\n",
      "question    0\n",
      "answer      0\n",
      "dtype: int64\n",
      "Duplicate rows in train: 0\n",
      "Duplicate rows in test: 0\n"
     ]
    }
   ],
   "source": [
    "# Data Overview\n",
    "# - Each row is a math word problem and its step-by-step answer.\n",
    "# - We'll check for missing values, duplicates, and basic statistics.\n",
    "\n",
    "# Check for missing values\n",
    "print('Missing values in train:')\n",
    "print(train_df.isnull().sum())\n",
    "print('Missing values in test:')\n",
    "print(test_df.isnull().sum())\n",
    "\n",
    "# Check for duplicates\n",
    "print('Duplicate rows in train:', train_df.duplicated().sum())\n",
    "print('Duplicate rows in test:', test_df.duplicated().sum())"
   ]
  },
  {
   "cell_type": "code",
   "execution_count": 12,
   "metadata": {},
   "outputs": [
    {
     "data": {
      "text/html": [
       "<div>\n",
       "<style scoped>\n",
       "    .dataframe tbody tr th:only-of-type {\n",
       "        vertical-align: middle;\n",
       "    }\n",
       "\n",
       "    .dataframe tbody tr th {\n",
       "        vertical-align: top;\n",
       "    }\n",
       "\n",
       "    .dataframe thead th {\n",
       "        text-align: right;\n",
       "    }\n",
       "</style>\n",
       "<table border=\"1\" class=\"dataframe\">\n",
       "  <thead>\n",
       "    <tr style=\"text-align: right;\">\n",
       "      <th></th>\n",
       "      <th>question</th>\n",
       "      <th>answer</th>\n",
       "    </tr>\n",
       "  </thead>\n",
       "  <tbody>\n",
       "    <tr>\n",
       "      <th>0</th>\n",
       "      <td>natalia sold clips to 48 of her friends in apr...</td>\n",
       "      <td>natalia sold 48/2 = &lt;&lt;48/2=24&gt;&gt;24 clips in may...</td>\n",
       "    </tr>\n",
       "    <tr>\n",
       "      <th>1</th>\n",
       "      <td>weng earns $12 an hour for babysitting. yester...</td>\n",
       "      <td>weng earns 12/60 = $&lt;&lt;12/60=0.2&gt;&gt;0.2 per minut...</td>\n",
       "    </tr>\n",
       "    <tr>\n",
       "      <th>2</th>\n",
       "      <td>betty is saving money for a new wallet which c...</td>\n",
       "      <td>in the beginning, betty has only 100 / 2 = $&lt;&lt;...</td>\n",
       "    </tr>\n",
       "    <tr>\n",
       "      <th>3</th>\n",
       "      <td>julie is reading a 120-page book. yesterday, s...</td>\n",
       "      <td>maila read 12 x 2 = &lt;&lt;12*2=24&gt;&gt;24 pages today....</td>\n",
       "    </tr>\n",
       "    <tr>\n",
       "      <th>4</th>\n",
       "      <td>james writes a 3-page letter to 2 different fr...</td>\n",
       "      <td>he writes each friend 3*2=&lt;&lt;3*2=6&gt;&gt;6 pages a w...</td>\n",
       "    </tr>\n",
       "  </tbody>\n",
       "</table>\n",
       "</div>"
      ],
      "text/plain": [
       "                                            question  \\\n",
       "0  natalia sold clips to 48 of her friends in apr...   \n",
       "1  weng earns $12 an hour for babysitting. yester...   \n",
       "2  betty is saving money for a new wallet which c...   \n",
       "3  julie is reading a 120-page book. yesterday, s...   \n",
       "4  james writes a 3-page letter to 2 different fr...   \n",
       "\n",
       "                                              answer  \n",
       "0  natalia sold 48/2 = <<48/2=24>>24 clips in may...  \n",
       "1  weng earns 12/60 = $<<12/60=0.2>>0.2 per minut...  \n",
       "2  in the beginning, betty has only 100 / 2 = $<<...  \n",
       "3  maila read 12 x 2 = <<12*2=24>>24 pages today....  \n",
       "4  he writes each friend 3*2=<<3*2=6>>6 pages a w...  "
      ]
     },
     "execution_count": 12,
     "metadata": {},
     "output_type": "execute_result"
    }
   ],
   "source": [
    "# Text Normalization\n",
    "# - Lowercase all text\n",
    "# - Strip whitespace\n",
    "# - Remove special characters (if needed)\n",
    "# - Document all steps\n",
    "\n",
    "def normalize_text(text):\n",
    "    text = str(text).strip().lower()\n",
    "    return text\n",
    "\n",
    "train_df['question'] = train_df['question'].apply(normalize_text)\n",
    "train_df['answer'] = train_df['answer'].apply(normalize_text)\n",
    "test_df['question'] = test_df['question'].apply(normalize_text)\n",
    "test_df['answer'] = test_df['answer'].apply(normalize_text)\n",
    "\n",
    "train_df.head()"
   ]
  },
  {
   "cell_type": "code",
   "execution_count": 13,
   "metadata": {},
   "outputs": [
    {
     "name": "stdout",
     "output_type": "stream",
     "text": [
      "Sample question: natalia sold clips to 48 of her friends in april, and then she sold half as many clips in may. how many clips did natalia sell altogether in april and may?\n",
      "Tokens: ['nat', 'alia', 'Ġsold', 'Ġclips', 'Ġto', 'Ġ48', 'Ġof', 'Ġher', 'Ġfriends', 'Ġin', 'Ġapr', 'il', ',', 'Ġand', 'Ġthen', 'Ġshe', 'Ġsold', 'Ġhalf', 'Ġas', 'Ġmany', 'Ġclips', 'Ġin', 'Ġmay', '.', 'Ġhow', 'Ġmany', 'Ġclips', 'Ġdid', 'Ġnat', 'alia', 'Ġsell', 'Ġaltogether', 'Ġin', 'Ġapr', 'il', 'Ġand', 'Ġmay', '?']\n",
      "Token IDs: [32353, 9752, 2702, 19166, 284, 4764, 286, 607, 2460, 287, 46593, 346, 11, 290, 788, 673, 2702, 2063, 355, 867, 19166, 287, 743, 13, 703, 867, 19166, 750, 34664, 9752, 3677, 13318, 287, 46593, 346, 290, 743, 30]\n"
     ]
    }
   ],
   "source": [
    "# Tokenization\n",
    "# - Use DistilGPT-2 tokenizer from Hugging Face\n",
    "# - Show example tokenization\n",
    "\n",
    "tokenizer = AutoTokenizer.from_pretrained('distilgpt2')\n",
    "\n",
    "# Example tokenization\n",
    "sample = train_df.iloc[0]['question']\n",
    "tokens = tokenizer.tokenize(sample)\n",
    "print('Sample question:', sample)\n",
    "print('Tokens:', tokens)\n",
    "print('Token IDs:', tokenizer.convert_tokens_to_ids(tokens))"
   ]
  },
  {
   "cell_type": "code",
   "execution_count": 18,
   "metadata": {},
   "outputs": [],
   "source": [
    "# Save Preprocessed Data\n",
    "# - Save cleaned data for model training.\n",
    "\n",
    "train_df.to_csv('../data/main_train_clean.csv', index=False)\n",
    "test_df.to_csv('../data/main_test_clean.csv', index=False)"
   ]
  }
 ],
 "metadata": {
  "kernelspec": {
   "display_name": "Python 3",
   "language": "python",
   "name": "python3"
  },
  "language_info": {
   "codemirror_mode": {
    "name": "ipython",
    "version": 3
   },
   "file_extension": ".py",
   "mimetype": "text/x-python",
   "name": "python",
   "nbconvert_exporter": "python",
   "pygments_lexer": "ipython3",
   "version": "3.10.0"
  }
 },
 "nbformat": 4,
 "nbformat_minor": 2
}
